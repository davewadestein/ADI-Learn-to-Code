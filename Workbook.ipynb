{
 "cells": [
  {
   "cell_type": "markdown",
   "id": "a26147b6-2e36-4264-a82d-c971c1d1fbf9",
   "metadata": {},
   "source": [
    "# Important Things to Know About Python\n",
    "* everything in Python is an object (not true in Java)\n",
    "* Python employs \"truthiness\"\n",
    "  * any non-zero value (including negatives) is True\n",
    "    * 0 and 0.0 are False\n",
    "  * empty strings are False; non-empty strings are True\n",
    "  * empty containers are False; non-empty containers are \n",
    "* mutable vs. immutable\n",
    "  * immutable: string\n",
    "* Python is 30+ years old (1990)\n",
    "  * What was Python's raison d'être?\n",
    "  * Dominant scripting language back then was Perl\n",
    "  * A reaction to Perl...creating a language that processes text and data well"
   ]
  },
  {
   "cell_type": "markdown",
   "id": "125891be-143f-43fc-8264-a5dae4408b51",
   "metadata": {},
   "source": [
    "# Important Things to Know about Learning\n",
    "* Learn how to Zoom In / Zoom Out as needed\n",
    "  * Go down the rabbit hole / Don't go down the rabbit hole"
   ]
  },
  {
   "cell_type": "markdown",
   "id": "59fc2c7d",
   "metadata": {},
   "source": [
    "# Important Stuff to Know...\n",
    "* \"Code is written for others to read and incidentally for computers to execute.\" –Hal Abelson\n",
    "* Eagleson's Law: \"Any code written more than six months ago might as well have been written by somebody else\""
   ]
  },
  {
   "cell_type": "code",
   "execution_count": 1,
   "id": "91d1919f-1362-4068-ae5f-8aedd43c200c",
   "metadata": {},
   "outputs": [
    {
     "data": {
      "text/plain": [
       "['In',\n",
       " 'Out',\n",
       " '_',\n",
       " '__',\n",
       " '___',\n",
       " '__builtin__',\n",
       " '__builtins__',\n",
       " '__doc__',\n",
       " '__loader__',\n",
       " '__name__',\n",
       " '__package__',\n",
       " '__spec__',\n",
       " '_dh',\n",
       " '_i',\n",
       " '_i1',\n",
       " '_ih',\n",
       " '_ii',\n",
       " '_iii',\n",
       " '_oh',\n",
       " 'exit',\n",
       " 'get_ipython',\n",
       " 'quit']"
      ]
     },
     "execution_count": 1,
     "metadata": {},
     "output_type": "execute_result"
    }
   ],
   "source": [
    "dir()"
   ]
  },
  {
   "cell_type": "code",
   "execution_count": 2,
   "id": "e43b2fa2-51cd-4cdd-924c-aaf752197105",
   "metadata": {},
   "outputs": [],
   "source": [
    "new_var = 'new'"
   ]
  },
  {
   "cell_type": "code",
   "execution_count": 3,
   "id": "10c6cd19-9a8e-4f3a-aee9-bcc14023b980",
   "metadata": {},
   "outputs": [
    {
     "data": {
      "text/plain": [
       "['In',\n",
       " 'Out',\n",
       " '_',\n",
       " '_1',\n",
       " '__',\n",
       " '___',\n",
       " '__builtin__',\n",
       " '__builtins__',\n",
       " '__doc__',\n",
       " '__loader__',\n",
       " '__name__',\n",
       " '__package__',\n",
       " '__spec__',\n",
       " '_dh',\n",
       " '_i',\n",
       " '_i1',\n",
       " '_i2',\n",
       " '_i3',\n",
       " '_ih',\n",
       " '_ii',\n",
       " '_iii',\n",
       " '_oh',\n",
       " 'exit',\n",
       " 'get_ipython',\n",
       " 'new_var',\n",
       " 'quit']"
      ]
     },
     "execution_count": 3,
     "metadata": {},
     "output_type": "execute_result"
    }
   ],
   "source": [
    "dir()"
   ]
  },
  {
   "cell_type": "code",
   "execution_count": 4,
   "id": "40eec654-084c-45b3-b4c8-5a528aee2121",
   "metadata": {},
   "outputs": [],
   "source": [
    "x = 1 # put 1 into x"
   ]
  },
  {
   "cell_type": "code",
   "execution_count": 5,
   "id": "a39c2948-36e6-4ece-b29e-e3f80a0848f3",
   "metadata": {},
   "outputs": [
    {
     "data": {
      "text/plain": [
       "['In',\n",
       " 'Out',\n",
       " '_',\n",
       " '_1',\n",
       " '_3',\n",
       " '__',\n",
       " '___',\n",
       " '__builtin__',\n",
       " '__builtins__',\n",
       " '__doc__',\n",
       " '__loader__',\n",
       " '__name__',\n",
       " '__package__',\n",
       " '__spec__',\n",
       " '_dh',\n",
       " '_i',\n",
       " '_i1',\n",
       " '_i2',\n",
       " '_i3',\n",
       " '_i4',\n",
       " '_i5',\n",
       " '_ih',\n",
       " '_ii',\n",
       " '_iii',\n",
       " '_oh',\n",
       " 'exit',\n",
       " 'get_ipython',\n",
       " 'new_var',\n",
       " 'quit',\n",
       " 'x']"
      ]
     },
     "execution_count": 5,
     "metadata": {},
     "output_type": "execute_result"
    }
   ],
   "source": [
    "dir()"
   ]
  },
  {
   "cell_type": "code",
   "execution_count": 6,
   "id": "5b0d771f-e0e3-4a10-95f8-cd0913f77ef4",
   "metadata": {},
   "outputs": [
    {
     "name": "stdout",
     "output_type": "stream",
     "text": [
      "\n"
     ]
    }
   ],
   "source": [
    "print()"
   ]
  },
  {
   "cell_type": "code",
   "execution_count": 7,
   "id": "9afefb84-71c7-43bb-98cd-76167ba6a30a",
   "metadata": {},
   "outputs": [
    {
     "name": "stdout",
     "output_type": "stream",
     "text": [
      "1\n"
     ]
    }
   ],
   "source": [
    "print(1)"
   ]
  },
  {
   "cell_type": "code",
   "execution_count": 8,
   "id": "23967f3d-77cd-4b1f-8d3b-a254cea297fd",
   "metadata": {},
   "outputs": [
    {
     "name": "stdout",
     "output_type": "stream",
     "text": [
      "1 one\n"
     ]
    }
   ],
   "source": [
    "print(1, 'one')"
   ]
  },
  {
   "cell_type": "code",
   "execution_count": 9,
   "id": "076f379d-0ac1-4dc9-bec0-3bee4c49b449",
   "metadata": {},
   "outputs": [
    {
     "name": "stdout",
     "output_type": "stream",
     "text": [
      "1 2 3\n"
     ]
    }
   ],
   "source": [
    "print(1, 2, 3)"
   ]
  },
  {
   "cell_type": "code",
   "execution_count": 10,
   "id": "d9281082-bde0-4cc4-bbd8-ae0da938e8ad",
   "metadata": {},
   "outputs": [
    {
     "name": "stdout",
     "output_type": "stream",
     "text": [
      "1***2***3\n"
     ]
    }
   ],
   "source": [
    "print(1, 2, 3, sep='***') # sep= means set the \"separator\""
   ]
  },
  {
   "cell_type": "code",
   "execution_count": 11,
   "id": "3a6722d6-6ae8-42a6-a4f6-d7e176e1933e",
   "metadata": {},
   "outputs": [
    {
     "name": "stdout",
     "output_type": "stream",
     "text": [
      "1 2 3\n",
      "4 5\n"
     ]
    }
   ],
   "source": [
    "print(1, 2, 3)\n",
    "print(4, 5)"
   ]
  },
  {
   "cell_type": "code",
   "execution_count": 12,
   "id": "755d94c0-a188-4384-95e1-98655d6dc4dd",
   "metadata": {},
   "outputs": [
    {
     "name": "stdout",
     "output_type": "stream",
     "text": [
      "1 2 3 4 5\n"
     ]
    }
   ],
   "source": [
    "print(1, 2, 3, end=' ')\n",
    "print(4, 5)"
   ]
  },
  {
   "cell_type": "code",
   "execution_count": 13,
   "id": "68bd754b-85b9-4eba-9698-ab14530636e5",
   "metadata": {},
   "outputs": [
    {
     "name": "stdout",
     "output_type": "stream",
     "text": [
      "this is on the same line as this\n"
     ]
    }
   ],
   "source": [
    "print('this is on the same line ', end='') # print NOTHING at the end of the line\n",
    "print('as this')"
   ]
  },
  {
   "cell_type": "code",
   "execution_count": 1,
   "id": "60e80370-0f3f-4772-8f23-da1a5d835ae2",
   "metadata": {},
   "outputs": [],
   "source": [
    "# Python 3.6 added the ability to do \"static type checking\"\n",
    "x: int = 1 # \"type hinting\""
   ]
  },
  {
   "cell_type": "code",
   "execution_count": 2,
   "id": "3e80c097-e893-4b6c-b1f1-a583bfeb33bd",
   "metadata": {},
   "outputs": [
    {
     "data": {
      "text/plain": [
       "1"
      ]
     },
     "execution_count": 2,
     "metadata": {},
     "output_type": "execute_result"
    }
   ],
   "source": [
    "x"
   ]
  },
  {
   "cell_type": "code",
   "execution_count": 3,
   "id": "f46f8ab7-f705-4237-bbc7-f53601314a46",
   "metadata": {},
   "outputs": [],
   "source": [
    "x = 1.1"
   ]
  },
  {
   "cell_type": "code",
   "execution_count": 7,
   "id": "4d532310-f83d-4b56-80d2-4afb700721fe",
   "metadata": {},
   "outputs": [
    {
     "name": "stdin",
     "output_type": "stream",
     "text": [
      "Enter a year:  upside down\n"
     ]
    },
    {
     "name": "stdout",
     "output_type": "stream",
     "text": [
      "You entered upside down\n"
     ]
    }
   ],
   "source": [
    "year = input('Enter a year: ')\n",
    "print('You entered', year)"
   ]
  },
  {
   "cell_type": "code",
   "execution_count": 8,
   "id": "61dba869-921e-466e-bda1-3b85ac98c911",
   "metadata": {},
   "outputs": [
    {
     "data": {
      "text/plain": [
       "'upside down'"
      ]
     },
     "execution_count": 8,
     "metadata": {},
     "output_type": "execute_result"
    }
   ],
   "source": [
    "year"
   ]
  },
  {
   "cell_type": "code",
   "execution_count": 1,
   "id": "40aaae06-94d3-474a-a45a-3a1fe2d92c82",
   "metadata": {},
   "outputs": [],
   "source": [
    "UpperCase = 1"
   ]
  },
  {
   "cell_type": "code",
   "execution_count": 2,
   "id": "49ccdf4e-3df3-47cd-b030-7022ec6fbb58",
   "metadata": {},
   "outputs": [
    {
     "ename": "NameError",
     "evalue": "name 'uppercase' is not defined",
     "output_type": "error",
     "traceback": [
      "\u001b[0;31m---------------------------------------------------------------------------\u001b[0m",
      "\u001b[0;31mNameError\u001b[0m                                 Traceback (most recent call last)",
      "\u001b[0;32m/tmp/ipykernel_96/3369414908.py\u001b[0m in \u001b[0;36m<module>\u001b[0;34m\u001b[0m\n\u001b[0;32m----> 1\u001b[0;31m \u001b[0muppercase\u001b[0m\u001b[0;34m\u001b[0m\u001b[0;34m\u001b[0m\u001b[0m\n\u001b[0m",
      "\u001b[0;31mNameError\u001b[0m: name 'uppercase' is not defined"
     ]
    }
   ],
   "source": [
    "uppercase"
   ]
  },
  {
   "cell_type": "code",
   "execution_count": 3,
   "id": "9ae518b2-6d10-412f-8373-7576ba26033c",
   "metadata": {},
   "outputs": [
    {
     "data": {
      "text/plain": [
       "1"
      ]
     },
     "execution_count": 3,
     "metadata": {},
     "output_type": "execute_result"
    }
   ],
   "source": [
    "UpperCase"
   ]
  },
  {
   "cell_type": "code",
   "execution_count": 4,
   "id": "9a880320-1861-4ea9-938f-48f9d3790c80",
   "metadata": {},
   "outputs": [],
   "source": [
    "this_thing = 'blah'"
   ]
  },
  {
   "cell_type": "code",
   "execution_count": 5,
   "id": "f437f57d-c02b-493e-a0e2-6e4403fb37f6",
   "metadata": {},
   "outputs": [],
   "source": [
    "CONSTANT = 'something that does not change'"
   ]
  },
  {
   "cell_type": "code",
   "execution_count": 6,
   "id": "daa4b313-ebfa-4b77-8529-2f2e5be808a8",
   "metadata": {},
   "outputs": [
    {
     "data": {
      "text/plain": [
       "'something that does not change'"
      ]
     },
     "execution_count": 6,
     "metadata": {},
     "output_type": "execute_result"
    }
   ],
   "source": [
    "CONSTANT"
   ]
  },
  {
   "cell_type": "code",
   "execution_count": 9,
   "id": "213c47e1-9673-4a2e-88f7-1cf5a46adf87",
   "metadata": {},
   "outputs": [],
   "source": [
    "_do_not_do_this = 1 # see this next week"
   ]
  },
  {
   "cell_type": "code",
   "execution_count": 8,
   "id": "b0f2e5f4-aafb-46ff-8cd9-5ca98b00799b",
   "metadata": {},
   "outputs": [
    {
     "data": {
      "text/plain": [
       "1"
      ]
     },
     "execution_count": 8,
     "metadata": {},
     "output_type": "execute_result"
    }
   ],
   "source": [
    "_do_not_do_this"
   ]
  },
  {
   "cell_type": "code",
   "execution_count": 11,
   "id": "665d0eac-5f55-46f6-a586-a325f548e9e9",
   "metadata": {},
   "outputs": [],
   "source": [
    "a = 1"
   ]
  },
  {
   "cell_type": "code",
   "execution_count": 12,
   "id": "e4d0bb6e-fa26-4b8f-a820-ba3a4d96ab1a",
   "metadata": {},
   "outputs": [
    {
     "data": {
      "text/plain": [
       "1"
      ]
     },
     "execution_count": 12,
     "metadata": {},
     "output_type": "execute_result"
    }
   ],
   "source": [
    "a # a is an expression"
   ]
  },
  {
   "cell_type": "code",
   "execution_count": 13,
   "id": "e74e93d2-7169-488c-8700-d3b09e0e0273",
   "metadata": {},
   "outputs": [
    {
     "data": {
      "text/plain": [
       "3"
      ]
     },
     "execution_count": 13,
     "metadata": {},
     "output_type": "execute_result"
    }
   ],
   "source": [
    "2 + a"
   ]
  },
  {
   "cell_type": "code",
   "execution_count": 14,
   "id": "391f3943-533d-47b8-a138-ea0b09f8decf",
   "metadata": {},
   "outputs": [],
   "source": [
    "name = 'Bruce Lee'"
   ]
  },
  {
   "cell_type": "code",
   "execution_count": 15,
   "id": "cee16dc5-b6a9-48d8-967d-faa22579c87a",
   "metadata": {},
   "outputs": [
    {
     "data": {
      "text/plain": [
       "'Bruce Lee'"
      ]
     },
     "execution_count": 15,
     "metadata": {},
     "output_type": "execute_result"
    }
   ],
   "source": [
    "name"
   ]
  },
  {
   "cell_type": "code",
   "execution_count": 16,
   "id": "75d782f2-0df1-47d0-93f3-271d66ed3299",
   "metadata": {},
   "outputs": [
    {
     "name": "stdout",
     "output_type": "stream",
     "text": [
      "Bruce Lee\n"
     ]
    }
   ],
   "source": [
    "print(name)"
   ]
  },
  {
   "cell_type": "code",
   "execution_count": 18,
   "id": "25225a78-23d0-45dc-911d-067e6d7b881a",
   "metadata": {},
   "outputs": [],
   "source": [
    "name = 'Grace Hopper'"
   ]
  },
  {
   "cell_type": "code",
   "execution_count": 20,
   "id": "ba60b47d-bfcd-42f1-b8f3-2c195bd2d2fa",
   "metadata": {},
   "outputs": [
    {
     "name": "stdout",
     "output_type": "stream",
     "text": [
      "Grace Hopper\n"
     ]
    }
   ],
   "source": [
    "print(name)"
   ]
  },
  {
   "cell_type": "code",
   "execution_count": 21,
   "id": "5154ad97-ec17-4e9f-81d2-4caddd828ae5",
   "metadata": {},
   "outputs": [
    {
     "data": {
      "text/plain": [
       "'Grace Hopper'"
      ]
     },
     "execution_count": 21,
     "metadata": {},
     "output_type": "execute_result"
    }
   ],
   "source": [
    "name # evaluate, i.e, tell me, the value of this expression"
   ]
  },
  {
   "cell_type": "code",
   "execution_count": 22,
   "id": "408ff05f-61e4-4982-b743-303032ec7772",
   "metadata": {},
   "outputs": [],
   "source": [
    "value = 1.234"
   ]
  },
  {
   "cell_type": "code",
   "execution_count": 23,
   "id": "18651adc-62a4-49d2-a468-d02174e41269",
   "metadata": {},
   "outputs": [
    {
     "data": {
      "text/plain": [
       "1.234"
      ]
     },
     "execution_count": 23,
     "metadata": {},
     "output_type": "execute_result"
    }
   ],
   "source": [
    "value"
   ]
  },
  {
   "cell_type": "code",
   "execution_count": 24,
   "id": "7227a8e1-397a-4ec3-8e0b-46178075e353",
   "metadata": {},
   "outputs": [
    {
     "data": {
      "text/plain": [
       "4"
      ]
     },
     "execution_count": 24,
     "metadata": {},
     "output_type": "execute_result"
    }
   ],
   "source": [
    "2 + 2"
   ]
  },
  {
   "cell_type": "code",
   "execution_count": 27,
   "id": "2da38640-91f4-4ebe-81a9-a36b66c73750",
   "metadata": {},
   "outputs": [
    {
     "data": {
      "text/plain": [
       "'Grace Hopper'"
      ]
     },
     "execution_count": 27,
     "metadata": {},
     "output_type": "execute_result"
    }
   ],
   "source": [
    "name"
   ]
  },
  {
   "cell_type": "code",
   "execution_count": 26,
   "id": "35238541-8997-4864-a711-272bdeb5b699",
   "metadata": {},
   "outputs": [
    {
     "name": "stdout",
     "output_type": "stream",
     "text": [
      "Grace Hopper\n"
     ]
    }
   ],
   "source": [
    "print(name)"
   ]
  },
  {
   "cell_type": "code",
   "execution_count": 28,
   "id": "522cac4b-4096-4004-9e1a-e03a47836641",
   "metadata": {},
   "outputs": [
    {
     "data": {
      "text/plain": [
       "5"
      ]
     },
     "execution_count": 28,
     "metadata": {},
     "output_type": "execute_result"
    }
   ],
   "source": [
    "2 + 3"
   ]
  },
  {
   "cell_type": "code",
   "execution_count": 29,
   "id": "05bc6d32-2518-4c6c-9d4b-97e407382bea",
   "metadata": {},
   "outputs": [],
   "source": [
    "2 + 3 # what happened to this?\n",
    "x = 1"
   ]
  },
  {
   "cell_type": "code",
   "execution_count": 30,
   "id": "a756a59b-9935-452f-8782-d8807c8f5df4",
   "metadata": {},
   "outputs": [
    {
     "data": {
      "text/plain": [
       "1"
      ]
     },
     "execution_count": 30,
     "metadata": {},
     "output_type": "execute_result"
    }
   ],
   "source": [
    "x"
   ]
  },
  {
   "cell_type": "code",
   "execution_count": 31,
   "id": "9faa4cc5-3e59-4d7c-8c99-95723e441e81",
   "metadata": {},
   "outputs": [],
   "source": [
    "# what happens in a Jupyter cell\n",
    "# is that all lines of the cell are run in \"program mode\"\n",
    "# EXCEPT for the final line, which is run in \"interactive mode\""
   ]
  },
  {
   "cell_type": "code",
   "execution_count": 32,
   "id": "54f0a33b-af01-4218-8314-f3e68178d9d8",
   "metadata": {},
   "outputs": [
    {
     "data": {
      "text/plain": [
       "6"
      ]
     },
     "execution_count": 32,
     "metadata": {},
     "output_type": "execute_result"
    }
   ],
   "source": [
    "2 + 4"
   ]
  },
  {
   "cell_type": "code",
   "execution_count": 33,
   "id": "0686be20-64b3-4d3e-beb5-640aeaba73b3",
   "metadata": {},
   "outputs": [
    {
     "data": {
      "text/plain": [
       "5"
      ]
     },
     "execution_count": 33,
     "metadata": {},
     "output_type": "execute_result"
    }
   ],
   "source": [
    "2 + 4 # this is evaluated BUT NOT PRINTED\n",
    "2 + 3 # this is evaluated AND PRINTED"
   ]
  },
  {
   "cell_type": "code",
   "execution_count": 34,
   "id": "90bb89da-b6ca-4fad-b649-527d17e689bd",
   "metadata": {},
   "outputs": [
    {
     "name": "stdout",
     "output_type": "stream",
     "text": [
      "6\n",
      "5\n"
     ]
    }
   ],
   "source": [
    "print(2 + 4)\n",
    "print(2 + 3)"
   ]
  },
  {
   "cell_type": "code",
   "execution_count": 35,
   "id": "99585d36-ce05-447b-b70b-74da1ddb2864",
   "metadata": {},
   "outputs": [
    {
     "name": "stdout",
     "output_type": "stream",
     "text": [
      "this\n"
     ]
    },
    {
     "data": {
      "text/plain": [
       "5"
      ]
     },
     "execution_count": 35,
     "metadata": {},
     "output_type": "execute_result"
    }
   ],
   "source": [
    "print('this')\n",
    "5"
   ]
  },
  {
   "cell_type": "code",
   "execution_count": 36,
   "id": "154f3b38-0e82-4b26-9b1a-77c1b071660b",
   "metadata": {},
   "outputs": [
    {
     "data": {
      "text/plain": [
       "4"
      ]
     },
     "execution_count": 36,
     "metadata": {},
     "output_type": "execute_result"
    }
   ],
   "source": [
    "31 // 7"
   ]
  },
  {
   "cell_type": "code",
   "execution_count": 37,
   "id": "e864951a-9bd5-41b2-8a52-5a5b2002ca64",
   "metadata": {},
   "outputs": [
    {
     "data": {
      "text/plain": [
       "3"
      ]
     },
     "execution_count": 37,
     "metadata": {},
     "output_type": "execute_result"
    }
   ],
   "source": [
    "31 % 7 # the remainder when dividing 7 into 31"
   ]
  },
  {
   "cell_type": "code",
   "execution_count": 38,
   "id": "d6fca169-feea-460f-9ffe-ad1497141b40",
   "metadata": {},
   "outputs": [
    {
     "data": {
      "text/plain": [
       "0"
      ]
     },
     "execution_count": 38,
     "metadata": {},
     "output_type": "execute_result"
    }
   ],
   "source": [
    "96 % 8"
   ]
  },
  {
   "cell_type": "code",
   "execution_count": 39,
   "id": "b79879ec-2565-4471-9ffd-6c1e20e35808",
   "metadata": {},
   "outputs": [
    {
     "data": {
      "text/plain": [
       "18446744073709551616"
      ]
     },
     "execution_count": 39,
     "metadata": {},
     "output_type": "execute_result"
    }
   ],
   "source": [
    "2 ** 64"
   ]
  },
  {
   "cell_type": "code",
   "execution_count": 40,
   "id": "5ff8b7e8-ce4c-403e-8b86-5d25564444df",
   "metadata": {},
   "outputs": [
    {
     "data": {
      "text/plain": [
       "1.8446744073709552e+17"
      ]
     },
     "execution_count": 40,
     "metadata": {},
     "output_type": "execute_result"
    }
   ],
   "source": [
    "(2 ** 64) / 100"
   ]
  },
  {
   "cell_type": "code",
   "execution_count": 41,
   "id": "1499f40c-5d77-41e0-bbf8-b5708584ca31",
   "metadata": {},
   "outputs": [
    {
     "data": {
      "text/plain": [
       "4.428571428571429"
      ]
     },
     "execution_count": 41,
     "metadata": {},
     "output_type": "execute_result"
    }
   ],
   "source": [
    "31 / 7 "
   ]
  },
  {
   "cell_type": "code",
   "execution_count": 42,
   "id": "fa8c12ed-cf2b-4c92-a3df-0dae69b1c75f",
   "metadata": {},
   "outputs": [
    {
     "data": {
      "text/plain": [
       "4"
      ]
     },
     "execution_count": 42,
     "metadata": {},
     "output_type": "execute_result"
    }
   ],
   "source": [
    "31 // 7"
   ]
  },
  {
   "cell_type": "code",
   "execution_count": 43,
   "id": "631cce43-8e01-4d84-a4f0-fb24169b987a",
   "metadata": {},
   "outputs": [
    {
     "data": {
      "text/plain": [
       "1.5"
      ]
     },
     "execution_count": 43,
     "metadata": {},
     "output_type": "execute_result"
    }
   ],
   "source": [
    "3.5 % 2"
   ]
  },
  {
   "cell_type": "code",
   "execution_count": 45,
   "id": "b01e4d6b-f7cd-45c9-94dd-a4f3805601d1",
   "metadata": {},
   "outputs": [
    {
     "data": {
      "text/plain": [
       "1.5"
      ]
     },
     "execution_count": 45,
     "metadata": {},
     "output_type": "execute_result"
    }
   ],
   "source": [
    "9.5 % 2 # 2 goes into 9.5 4 times, so the remainder is 1.5"
   ]
  },
  {
   "cell_type": "code",
   "execution_count": 46,
   "id": "09346b09-960a-4667-a9cf-5a56fffe9b2f",
   "metadata": {},
   "outputs": [
    {
     "data": {
      "text/plain": [
       "0.6449999999999996"
      ]
     },
     "execution_count": 46,
     "metadata": {},
     "output_type": "execute_result"
    }
   ],
   "source": [
    "9.645 % 3"
   ]
  },
  {
   "cell_type": "code",
   "execution_count": 47,
   "id": "eebcac18-cba2-41c0-bc87-01f7b3857ca3",
   "metadata": {},
   "outputs": [
    {
     "data": {
      "text/plain": [
       "0.30000000000000004"
      ]
     },
     "execution_count": 47,
     "metadata": {},
     "output_type": "execute_result"
    }
   ],
   "source": [
    "0.1 + 0.1 + 0.1"
   ]
  },
  {
   "cell_type": "code",
   "execution_count": 50,
   "id": "5174d45d-3ca7-4c85-91bd-235f40fc562b",
   "metadata": {},
   "outputs": [
    {
     "name": "stdout",
     "output_type": "stream",
     "text": [
      "0.300000\n"
     ]
    }
   ],
   "source": [
    "print('%.6f' % (0.1 + 0.1 + 0.1))"
   ]
  },
  {
   "cell_type": "code",
   "execution_count": 1,
   "id": "c7328eb4-b6d0-47b7-ad11-5e4d1fda936f",
   "metadata": {},
   "outputs": [],
   "source": [
    "# Python has unlimited precision integers"
   ]
  },
  {
   "cell_type": "code",
   "execution_count": 4,
   "id": "16fce321-83c8-4a31-ba5d-f89f499163f9",
   "metadata": {},
   "outputs": [
    {
     "data": {
      "text/plain": [
       "9223372036854775807"
      ]
     },
     "execution_count": 4,
     "metadata": {},
     "output_type": "execute_result"
    }
   ],
   "source": [
    "2 ** 63 - 1 # largest integer most computers / programming languages represent"
   ]
  },
  {
   "cell_type": "code",
   "execution_count": 5,
   "id": "efd6d15f-fcc1-4d46-bf0b-e1c3f8f37d33",
   "metadata": {},
   "outputs": [
    {
     "data": {
      "text/plain": [
       "141246703213942603683520966701614733366889617518454111681368808585711816984270751255808912631671152637335603208431366082764203838069979338335971185726639923431051777851865399011877999645131707069373498212631323752553111215372844035950900535954860733418453405575566736801565587405464699640499050849699472357900905617571376618228216434213181520991556677126498651782204174061830939239176861341383294018240225838692725596147005144243281075275629495339093813198966735633606329691023842454125835888656873133981287240980008838073668221804264432910894030789020219440578198488267339768238872279902157420307247570510423845868872596735891805818727796435753018518086641356012851302546726823009250218328018251907340245449863183265637987862198511046362985461949587281119139907228004385942880953958816554567625296086916885774828934449941362416588675326940332561103664556982622206834474219811081872404929503481991376740379825998791411879802717583885498575115299471743469241117070230398103378615232793710290992656444842895511830355733152020804157920090041811951880456705515468349446182731742327685989277607620709525878318766488368348965015474997864119765441433356928012344111765735336393557879214937004347568208665958717764059293592887514292843557047089164876483116615691886203812997555690171892169733755224469032475078797830901321579940127337210694377283439922280274060798234786740434893458120198341101033812506720046609891160700284002100980452964039788704335302619337597862052192280371481132164147186514169090917191909376"
      ]
     },
     "execution_count": 5,
     "metadata": {},
     "output_type": "execute_result"
    }
   ],
   "source": [
    " 2 ** 5000"
   ]
  },
  {
   "cell_type": "code",
   "execution_count": 7,
   "id": "e8a8cb19-01ac-49d4-a441-201d39a72fb0",
   "metadata": {},
   "outputs": [
    {
     "data": {
      "text/plain": [
       "19950631168807583848837421626835850838234968318861924548520089498529438830221946631919961684036194597899331129423209124271556491349413781117593785932096323957855730046793794526765246551266059895520550086918193311542508608460618104685509074866089624888090489894838009253941633257850621568309473902556912388065225096643874441046759871626985453222868538161694315775629640762836880760732228535091641476183956381458969463899410840960536267821064621427333394036525565649530603142680234969400335934316651459297773279665775606172582031407994198179607378245683762280037302885487251900834464581454650557929601414833921615734588139257095379769119277800826957735674444123062018757836325502728323789270710373802866393031428133241401624195671690574061419654342324638801248856147305207431992259611796250130992860241708340807605932320161268492288496255841312844061536738951487114256315111089745514203313820202931640957596464756010405845841566072044962867016515061920631004186422275908670900574606417856951911456055068251250406007519842261898059237118054444788072906395242548339221982707404473162376760846613033778706039803413197133493654622700563169937455508241780972810983291314403571877524768509857276937926433221599399876886660808368837838027643282775172273657572744784112294389733810861607423253291974813120197604178281965697475898164531258434135959862784130128185406283476649088690521047580882615823961985770122407044330583075869039319604603404973156583208672105913300903752823415539745394397715257455290510212310947321610753474825740775273986348298498340756937955646638621874569499279016572103701364433135817214311791398222983845847334440270964182851005072927748364550578634501100852987812389473928699540834346158807043959118985815145779177143619698728131459483783202081474982171858011389071228250905826817436220577475921417653715687725614904582904992461028630081535583308130101987675856234343538955409175623400844887526162643568648833519463720377293240094456246923254350400678027273837755376406726898636241037491410966718557050759098100246789880178271925953381282421954028302759408448955014676668389697996886241636313376393903373455801407636741877711055384225739499110186468219696581651485130494222369947714763069155468217682876200362777257723781365331611196811280792669481887201298643660768551639860534602297871557517947385246369446923087894265948217008051120322365496288169035739121368338393591756418733850510970271613915439590991598154654417336311656936031122249937969999226781732358023111862644575299135758175008199839236284615249881088960232244362173771618086357015468484058622329792853875623486556440536962622018963571028812361567512543338303270029097668650568557157505516727518899194129711337690149916181315171544007728650573189557450920330185304847113818315407324053319038462084036421763703911550639789000742853672196280903477974533320468368795868580237952218629120080742819551317948157624448298518461509704888027274721574688131594750409732115080498190455803416826949787141316063210686391511681774304792596709376"
      ]
     },
     "execution_count": 7,
     "metadata": {},
     "output_type": "execute_result"
    }
   ],
   "source": [
    "2 ** 10000"
   ]
  },
  {
   "cell_type": "code",
   "execution_count": 8,
   "id": "fef8088f-4078-4edd-a7d7-da3d8a351dc3",
   "metadata": {},
   "outputs": [
    {
     "data": {
      "text/plain": [
       "9"
      ]
     },
     "execution_count": 8,
     "metadata": {},
     "output_type": "execute_result"
    }
   ],
   "source": [
    "2 + 3 * 4 - 5"
   ]
  },
  {
   "cell_type": "code",
   "execution_count": 9,
   "id": "1e823093-a22d-4d90-9a11-dfce918b9fd3",
   "metadata": {},
   "outputs": [
    {
     "data": {
      "text/plain": [
       "-5"
      ]
     },
     "execution_count": 9,
     "metadata": {},
     "output_type": "execute_result"
    }
   ],
   "source": [
    "(2 + 3) * (4 - 5) # PEMDAS "
   ]
  },
  {
   "cell_type": "code",
   "execution_count": 3,
   "id": "4238ab52-41c4-4182-8bf9-200a690c10cc",
   "metadata": {},
   "outputs": [
    {
     "data": {
      "text/plain": [
       "True"
      ]
     },
     "execution_count": 3,
     "metadata": {},
     "output_type": "execute_result"
    }
   ],
   "source": [
    "1 + 2 == 3"
   ]
  },
  {
   "cell_type": "code",
   "execution_count": 4,
   "id": "56904e59-5657-4e5d-a38f-4f67f2f62dd0",
   "metadata": {},
   "outputs": [
    {
     "data": {
      "text/plain": [
       "8"
      ]
     },
     "execution_count": 4,
     "metadata": {},
     "output_type": "execute_result"
    }
   ],
   "source": [
    "2 ** 3"
   ]
  },
  {
   "cell_type": "code",
   "execution_count": 6,
   "id": "b2499fff-44fa-47c5-943c-b66550c0c9ce",
   "metadata": {},
   "outputs": [
    {
     "data": {
      "text/plain": [
       "True"
      ]
     },
     "execution_count": 6,
     "metadata": {},
     "output_type": "execute_result"
    }
   ],
   "source": [
    "2 ** 3 == 8"
   ]
  },
  {
   "cell_type": "code",
   "execution_count": 7,
   "id": "7fb7599a-7311-4a87-aac2-e1265e65dfc0",
   "metadata": {},
   "outputs": [
    {
     "data": {
      "text/plain": [
       "['False',\n",
       " 'None',\n",
       " 'True',\n",
       " 'and',\n",
       " 'as',\n",
       " 'assert',\n",
       " 'async',\n",
       " 'await',\n",
       " 'break',\n",
       " 'class',\n",
       " 'continue',\n",
       " 'def',\n",
       " 'del',\n",
       " 'elif',\n",
       " 'else',\n",
       " 'except',\n",
       " 'finally',\n",
       " 'for',\n",
       " 'from',\n",
       " 'global',\n",
       " 'if',\n",
       " 'import',\n",
       " 'in',\n",
       " 'is',\n",
       " 'lambda',\n",
       " 'nonlocal',\n",
       " 'not',\n",
       " 'or',\n",
       " 'pass',\n",
       " 'raise',\n",
       " 'return',\n",
       " 'try',\n",
       " 'while',\n",
       " 'with',\n",
       " 'yield']"
      ]
     },
     "execution_count": 7,
     "metadata": {},
     "output_type": "execute_result"
    }
   ],
   "source": [
    "import keyword\n",
    "keyword.kwlist"
   ]
  },
  {
   "cell_type": "code",
   "execution_count": 1,
   "id": "9c4de3d0-2c9d-4c4e-8da8-6ad79f620104",
   "metadata": {},
   "outputs": [
    {
     "data": {
      "text/plain": [
       "True"
      ]
     },
     "execution_count": 1,
     "metadata": {},
     "output_type": "execute_result"
    }
   ],
   "source": [
    "5 > 4 and 3 < 4"
   ]
  },
  {
   "cell_type": "code",
   "execution_count": 2,
   "id": "8d3c1561-fdc5-4faa-91dc-bfcd719dbb97",
   "metadata": {},
   "outputs": [
    {
     "data": {
      "text/plain": [
       "0"
      ]
     },
     "execution_count": 2,
     "metadata": {},
     "output_type": "execute_result"
    }
   ],
   "source": [
    "0 and 5 > 4"
   ]
  },
  {
   "cell_type": "code",
   "execution_count": 3,
   "id": "7a595272-195e-41cc-b4c5-b5f0582f2aca",
   "metadata": {},
   "outputs": [
    {
     "data": {
      "text/plain": [
       "False"
      ]
     },
     "execution_count": 3,
     "metadata": {},
     "output_type": "execute_result"
    }
   ],
   "source": [
    "False and 5 > 4"
   ]
  },
  {
   "cell_type": "code",
   "execution_count": 5,
   "id": "a683f1cb-1436-4630-b367-947d3f44f1a7",
   "metadata": {},
   "outputs": [],
   "source": [
    "string = '€150'"
   ]
  },
  {
   "cell_type": "code",
   "execution_count": 6,
   "id": "21fe58b5-6906-47ec-baf7-f992c4b0bd2d",
   "metadata": {},
   "outputs": [
    {
     "data": {
      "text/plain": [
       "'€150'"
      ]
     },
     "execution_count": 6,
     "metadata": {},
     "output_type": "execute_result"
    }
   ],
   "source": [
    "string"
   ]
  },
  {
   "cell_type": "code",
   "execution_count": 12,
   "id": "67f45b01-58d9-4eeb-9c29-39acd0f746dc",
   "metadata": {},
   "outputs": [],
   "source": [
    "year = 2021\n",
    "xyz = 51"
   ]
  },
  {
   "cell_type": "code",
   "execution_count": 13,
   "id": "f86947f1-77b4-4cd5-873a-ecc072dff2e3",
   "metadata": {},
   "outputs": [
    {
     "data": {
      "text/plain": [
       "False"
      ]
     },
     "execution_count": 13,
     "metadata": {},
     "output_type": "execute_result"
    }
   ],
   "source": [
    "(year == 2022) and (xyz < 10)"
   ]
  },
  {
   "cell_type": "code",
   "execution_count": 1,
   "id": "d25fb421-5bff-48b3-bab9-e5738110c9ca",
   "metadata": {},
   "outputs": [
    {
     "data": {
      "text/plain": [
       "0"
      ]
     },
     "execution_count": 1,
     "metadata": {},
     "output_type": "execute_result"
    }
   ],
   "source": [
    "int()"
   ]
  },
  {
   "cell_type": "code",
   "execution_count": 2,
   "id": "4eaae337-f6a1-4a60-a7fc-c4446500eef2",
   "metadata": {},
   "outputs": [
    {
     "data": {
      "text/plain": [
       "35"
      ]
     },
     "execution_count": 2,
     "metadata": {},
     "output_type": "execute_result"
    }
   ],
   "source": [
    "int('35')"
   ]
  },
  {
   "cell_type": "code",
   "execution_count": 4,
   "id": "c3de0b8c-f53b-4472-9f95-ef0db42623e1",
   "metadata": {},
   "outputs": [
    {
     "name": "stdin",
     "output_type": "stream",
     "text": [
      "Enter a year:  2022\n"
     ]
    },
    {
     "data": {
      "text/plain": [
       "2022"
      ]
     },
     "execution_count": 4,
     "metadata": {},
     "output_type": "execute_result"
    }
   ],
   "source": [
    "year = input('Enter a year: ')\n",
    "int(year)"
   ]
  },
  {
   "cell_type": "code",
   "execution_count": 5,
   "id": "78db599c-fec1-4824-aef9-7158ddd275ae",
   "metadata": {},
   "outputs": [
    {
     "name": "stdin",
     "output_type": "stream",
     "text": [
      "Enter price of thing:  19.95\n"
     ]
    }
   ],
   "source": [
    "price = input('Enter price of thing: ')"
   ]
  },
  {
   "cell_type": "code",
   "execution_count": 8,
   "id": "f06b5582-98dd-4558-805a-d058f76eee68",
   "metadata": {},
   "outputs": [],
   "source": [
    "price = float(price)"
   ]
  },
  {
   "cell_type": "code",
   "execution_count": 10,
   "id": "6c95a7b8-9c4a-4227-81ab-94758dc130c5",
   "metadata": {},
   "outputs": [
    {
     "data": {
      "text/plain": [
       "float"
      ]
     },
     "execution_count": 10,
     "metadata": {},
     "output_type": "execute_result"
    }
   ],
   "source": [
    "type(price)"
   ]
  },
  {
   "cell_type": "code",
   "execution_count": 12,
   "id": "4b15e4ca-4e89-4114-85cd-b50651d4addc",
   "metadata": {},
   "outputs": [
    {
     "name": "stdin",
     "output_type": "stream",
     "text": [
      "Enter price of thing:  19.95\n"
     ]
    }
   ],
   "source": [
    "price = float(input('Enter price of thing: '))"
   ]
  },
  {
   "cell_type": "code",
   "execution_count": 13,
   "id": "13f72fb4-8c63-4f98-a083-2a5549a860b0",
   "metadata": {},
   "outputs": [
    {
     "data": {
      "text/plain": [
       "'1'"
      ]
     },
     "execution_count": 13,
     "metadata": {},
     "output_type": "execute_result"
    }
   ],
   "source": [
    "str(1)"
   ]
  },
  {
   "cell_type": "code",
   "execution_count": 15,
   "id": "94378c6b-3cdc-4d06-8459-0d9dabae94b5",
   "metadata": {},
   "outputs": [
    {
     "name": "stdout",
     "output_type": "stream",
     "text": [
      "string\n"
     ]
    }
   ],
   "source": [
    "print(str('string'))"
   ]
  },
  {
   "cell_type": "code",
   "execution_count": 16,
   "id": "0b59e345-9d89-4a6e-bcdb-14703ed78220",
   "metadata": {},
   "outputs": [
    {
     "data": {
      "text/plain": [
       "'x'"
      ]
     },
     "execution_count": 16,
     "metadata": {},
     "output_type": "execute_result"
    }
   ],
   "source": [
    "str('x')"
   ]
  },
  {
   "cell_type": "code",
   "execution_count": 18,
   "id": "f0e3aa3b-6994-4eff-99e2-ad735e4c0ae8",
   "metadata": {},
   "outputs": [],
   "source": [
    "num = 12345"
   ]
  },
  {
   "cell_type": "code",
   "execution_count": 19,
   "id": "a64c9bbf-cd88-425b-88e8-e94b0889c9f6",
   "metadata": {},
   "outputs": [
    {
     "data": {
      "text/plain": [
       "12345"
      ]
     },
     "execution_count": 19,
     "metadata": {},
     "output_type": "execute_result"
    }
   ],
   "source": [
    "num"
   ]
  },
  {
   "cell_type": "code",
   "execution_count": 20,
   "id": "cf0094fc-d3d8-4589-87c7-dbfa99e07480",
   "metadata": {},
   "outputs": [
    {
     "data": {
      "text/plain": [
       "int"
      ]
     },
     "execution_count": 20,
     "metadata": {},
     "output_type": "execute_result"
    }
   ],
   "source": [
    "type(num)"
   ]
  },
  {
   "cell_type": "code",
   "execution_count": 21,
   "id": "3cddae41-a020-42df-a6ed-5b5889a9d3c8",
   "metadata": {},
   "outputs": [],
   "source": [
    "string = str(num)"
   ]
  },
  {
   "cell_type": "code",
   "execution_count": 22,
   "id": "9f02b03b-048d-4bf4-b00f-e127b06f286f",
   "metadata": {},
   "outputs": [
    {
     "data": {
      "text/plain": [
       "str"
      ]
     },
     "execution_count": 22,
     "metadata": {},
     "output_type": "execute_result"
    }
   ],
   "source": [
    "type(string)"
   ]
  },
  {
   "cell_type": "code",
   "execution_count": 23,
   "id": "5fd8b194-3894-4746-825e-444fb67e1d32",
   "metadata": {},
   "outputs": [
    {
     "name": "stdout",
     "output_type": "stream",
     "text": [
      "12345\n"
     ]
    }
   ],
   "source": [
    "print(string)"
   ]
  },
  {
   "cell_type": "code",
   "execution_count": 24,
   "id": "ecd5c955-edd2-4bba-9df4-c4b760017728",
   "metadata": {},
   "outputs": [
    {
     "data": {
      "text/plain": [
       "'12345'"
      ]
     },
     "execution_count": 24,
     "metadata": {},
     "output_type": "execute_result"
    }
   ],
   "source": [
    "string"
   ]
  },
  {
   "cell_type": "code",
   "execution_count": 25,
   "id": "2ce248b8-55a9-406b-aabf-d264cd3b841c",
   "metadata": {},
   "outputs": [
    {
     "data": {
      "text/plain": [
       "1"
      ]
     },
     "execution_count": 25,
     "metadata": {},
     "output_type": "execute_result"
    }
   ],
   "source": [
    "int(1.5)"
   ]
  },
  {
   "cell_type": "code",
   "execution_count": 26,
   "id": "1f119b2d-103e-4fdd-b846-6be828be452e",
   "metadata": {},
   "outputs": [
    {
     "data": {
      "text/plain": [
       "345"
      ]
     },
     "execution_count": 26,
     "metadata": {},
     "output_type": "execute_result"
    }
   ],
   "source": [
    "int('345')"
   ]
  },
  {
   "cell_type": "code",
   "execution_count": 27,
   "id": "2a0d4eb6-55cc-48a8-a0bb-8f14263eef99",
   "metadata": {},
   "outputs": [
    {
     "ename": "ValueError",
     "evalue": "invalid literal for int() with base 10: 'hello'",
     "output_type": "error",
     "traceback": [
      "\u001b[0;31m---------------------------------------------------------------------------\u001b[0m",
      "\u001b[0;31mValueError\u001b[0m                                Traceback (most recent call last)",
      "\u001b[0;32m/tmp/ipykernel_61/1136785238.py\u001b[0m in \u001b[0;36m<module>\u001b[0;34m\u001b[0m\n\u001b[0;32m----> 1\u001b[0;31m \u001b[0mint\u001b[0m\u001b[0;34m(\u001b[0m\u001b[0;34m'hello'\u001b[0m\u001b[0;34m)\u001b[0m\u001b[0;34m\u001b[0m\u001b[0;34m\u001b[0m\u001b[0m\n\u001b[0m",
      "\u001b[0;31mValueError\u001b[0m: invalid literal for int() with base 10: 'hello'"
     ]
    }
   ],
   "source": [
    "int('hello')"
   ]
  },
  {
   "cell_type": "code",
   "execution_count": 28,
   "id": "99b2e15a-30ec-412a-94ce-86894e5e449c",
   "metadata": {},
   "outputs": [
    {
     "ename": "ValueError",
     "evalue": "could not convert string to float: '2.5 dollars'",
     "output_type": "error",
     "traceback": [
      "\u001b[0;31m---------------------------------------------------------------------------\u001b[0m",
      "\u001b[0;31mValueError\u001b[0m                                Traceback (most recent call last)",
      "\u001b[0;32m/tmp/ipykernel_61/1623785565.py\u001b[0m in \u001b[0;36m<module>\u001b[0;34m\u001b[0m\n\u001b[0;32m----> 1\u001b[0;31m \u001b[0mfloat\u001b[0m\u001b[0;34m(\u001b[0m\u001b[0;34m'2.5 dollars'\u001b[0m\u001b[0;34m)\u001b[0m\u001b[0;34m\u001b[0m\u001b[0;34m\u001b[0m\u001b[0m\n\u001b[0m",
      "\u001b[0;31mValueError\u001b[0m: could not convert string to float: '2.5 dollars'"
     ]
    }
   ],
   "source": [
    "float('2.5 dollars')"
   ]
  },
  {
   "cell_type": "code",
   "execution_count": 29,
   "id": "d2f0c4fc-bd78-4ef8-bc7c-5b198bb2c231",
   "metadata": {},
   "outputs": [
    {
     "ename": "ValueError",
     "evalue": "could not convert string to float: '$25.00'",
     "output_type": "error",
     "traceback": [
      "\u001b[0;31m---------------------------------------------------------------------------\u001b[0m",
      "\u001b[0;31mValueError\u001b[0m                                Traceback (most recent call last)",
      "\u001b[0;32m/tmp/ipykernel_61/4226426541.py\u001b[0m in \u001b[0;36m<module>\u001b[0;34m\u001b[0m\n\u001b[0;32m----> 1\u001b[0;31m \u001b[0mfloat\u001b[0m\u001b[0;34m(\u001b[0m\u001b[0;34m'$25.00'\u001b[0m\u001b[0;34m)\u001b[0m\u001b[0;34m\u001b[0m\u001b[0;34m\u001b[0m\u001b[0m\n\u001b[0m",
      "\u001b[0;31mValueError\u001b[0m: could not convert string to float: '$25.00'"
     ]
    }
   ],
   "source": [
    "float('$25.00')"
   ]
  },
  {
   "cell_type": "code",
   "execution_count": 30,
   "id": "eb01cdc8-414f-4923-9643-7b5c179fbd64",
   "metadata": {},
   "outputs": [],
   "source": [
    "x = 123"
   ]
  },
  {
   "cell_type": "code",
   "execution_count": 31,
   "id": "b17a85ca-e3cc-496a-a007-9c9aaed1cfa9",
   "metadata": {},
   "outputs": [
    {
     "data": {
      "text/plain": [
       "True"
      ]
     },
     "execution_count": 31,
     "metadata": {},
     "output_type": "execute_result"
    }
   ],
   "source": [
    "bool(x)"
   ]
  },
  {
   "cell_type": "code",
   "execution_count": 32,
   "id": "52399333-007c-41c1-9e1a-4f1e26df0475",
   "metadata": {},
   "outputs": [
    {
     "data": {
      "text/plain": [
       "False"
      ]
     },
     "execution_count": 32,
     "metadata": {},
     "output_type": "execute_result"
    }
   ],
   "source": [
    "bool(0.0)"
   ]
  },
  {
   "cell_type": "code",
   "execution_count": 34,
   "id": "53be5be4-d286-4dee-9511-df2f9d03863a",
   "metadata": {},
   "outputs": [
    {
     "data": {
      "text/plain": [
       "True"
      ]
     },
     "execution_count": 34,
     "metadata": {},
     "output_type": "execute_result"
    }
   ],
   "source": [
    "bool(' ')"
   ]
  },
  {
   "cell_type": "code",
   "execution_count": 35,
   "id": "f2c2d6ca-d5af-4575-9e09-f9ebb535fb0f",
   "metadata": {},
   "outputs": [
    {
     "data": {
      "text/plain": [
       "True"
      ]
     },
     "execution_count": 35,
     "metadata": {},
     "output_type": "execute_result"
    }
   ],
   "source": [
    "bool(-3)"
   ]
  },
  {
   "cell_type": "code",
   "execution_count": 37,
   "id": "904304fb-d3e1-401b-b224-13584682868c",
   "metadata": {},
   "outputs": [
    {
     "name": "stdin",
     "output_type": "stream",
     "text": [
      "Enter a year:  Nope!\n"
     ]
    },
    {
     "ename": "ValueError",
     "evalue": "invalid literal for int() with base 10: 'Nope!'",
     "output_type": "error",
     "traceback": [
      "\u001b[0;31m---------------------------------------------------------------------------\u001b[0m",
      "\u001b[0;31mValueError\u001b[0m                                Traceback (most recent call last)",
      "\u001b[0;32m/tmp/ipykernel_61/58641256.py\u001b[0m in \u001b[0;36m<module>\u001b[0;34m\u001b[0m\n\u001b[0;32m----> 1\u001b[0;31m \u001b[0myear\u001b[0m \u001b[0;34m=\u001b[0m \u001b[0mint\u001b[0m\u001b[0;34m(\u001b[0m\u001b[0minput\u001b[0m\u001b[0;34m(\u001b[0m\u001b[0;34m'Enter a year: '\u001b[0m\u001b[0;34m)\u001b[0m\u001b[0;34m)\u001b[0m\u001b[0;34m\u001b[0m\u001b[0;34m\u001b[0m\u001b[0m\n\u001b[0m",
      "\u001b[0;31mValueError\u001b[0m: invalid literal for int() with base 10: 'Nope!'"
     ]
    }
   ],
   "source": [
    "year = int(input('Enter a year: '))"
   ]
  },
  {
   "cell_type": "code",
   "execution_count": 38,
   "id": "d63ca581-2d14-4a28-82c8-18665d6ef738",
   "metadata": {},
   "outputs": [
    {
     "name": "stdout",
     "output_type": "stream",
     "text": [
      "1 words 2\n"
     ]
    }
   ],
   "source": [
    "print(1, 'words', 2)"
   ]
  },
  {
   "cell_type": "code",
   "execution_count": 41,
   "id": "22cde34b-1d7e-45f4-9e82-9451a847b624",
   "metadata": {},
   "outputs": [
    {
     "name": "stdout",
     "output_type": "stream",
     "text": [
      "3 7 8 9 hi\n"
     ]
    }
   ],
   "source": [
    "print(3, 7, 8, 9, 'hi')"
   ]
  },
  {
   "cell_type": "code",
   "execution_count": 42,
   "id": "a5f722ba-3eab-4ef8-a051-9ff273540c47",
   "metadata": {},
   "outputs": [
    {
     "name": "stdout",
     "output_type": "stream",
     "text": [
      "1/2/3\n"
     ]
    }
   ],
   "source": [
    "print(1, 2, 3, sep='/')"
   ]
  },
  {
   "cell_type": "code",
   "execution_count": 43,
   "id": "d7c349c2-ba93-4a88-bcda-34664b2fe09b",
   "metadata": {},
   "outputs": [
    {
     "name": "stdin",
     "output_type": "stream",
     "text": [
      "Enter first name:  Dave\n"
     ]
    }
   ],
   "source": [
    "first = input('Enter first name: ')"
   ]
  },
  {
   "cell_type": "code",
   "execution_count": 44,
   "id": "528cc766-0e64-4100-91dc-dbd5bf07e200",
   "metadata": {},
   "outputs": [
    {
     "name": "stdin",
     "output_type": "stream",
     "text": [
      "Enter last name:  W-S\n"
     ]
    }
   ],
   "source": [
    "last = input('Enter last name: ')"
   ]
  },
  {
   "cell_type": "code",
   "execution_count": 45,
   "id": "fb4073d3-7722-425b-8e0d-fd9496412c1d",
   "metadata": {},
   "outputs": [
    {
     "data": {
      "text/plain": [
       "'Dave'"
      ]
     },
     "execution_count": 45,
     "metadata": {},
     "output_type": "execute_result"
    }
   ],
   "source": [
    "first"
   ]
  },
  {
   "cell_type": "code",
   "execution_count": 46,
   "id": "329d3b33-0f32-4de4-856f-ae19083ec3d2",
   "metadata": {},
   "outputs": [
    {
     "data": {
      "text/plain": [
       "'W-S'"
      ]
     },
     "execution_count": 46,
     "metadata": {},
     "output_type": "execute_result"
    }
   ],
   "source": [
    "last"
   ]
  },
  {
   "cell_type": "code",
   "execution_count": 47,
   "id": "8e0a50f7-0f9b-4b11-9e5d-e4c965fefedf",
   "metadata": {},
   "outputs": [],
   "source": [
    "full_name = first + ' ' + last"
   ]
  },
  {
   "cell_type": "code",
   "execution_count": 48,
   "id": "ed34ccf9-a4b5-4dfe-9528-aab72b2e6ace",
   "metadata": {},
   "outputs": [
    {
     "data": {
      "text/plain": [
       "'Dave W-S'"
      ]
     },
     "execution_count": 48,
     "metadata": {},
     "output_type": "execute_result"
    }
   ],
   "source": [
    "full_name"
   ]
  },
  {
   "cell_type": "markdown",
   "id": "a72cb552-3cd1-4519-b46c-4c86b3573842",
   "metadata": {},
   "source": [
    "## Lab: Indexing Strings\n",
    "* prompt the user and read a string\n",
    "* prompt the user for an index\n",
    "*  use the index to print out the character at that offset (e.g., if user enters '3', you would print out the [3] character of the string\n",
    "* what happens if you hit return (i.e., enter an \"empty string\")?\n",
    "* what happens if you set the zeroth character of the string you read to 'x'"
   ]
  },
  {
   "cell_type": "code",
   "execution_count": 1,
   "id": "ea180130-5c8f-42f4-ac77-27f49d3ebd8f",
   "metadata": {},
   "outputs": [
    {
     "name": "stdout",
     "output_type": "stream",
     "text": [
      "Enter a string: Python\n",
      "Enter an index: 4\n",
      "o\n"
     ]
    }
   ],
   "source": [
    "string = input('Enter a string: ') # read a string from the user\n",
    "index = int(input('Enter an index: ')) # don't forget to convert to int\n",
    "print(string[index]) # print the index'th character of the string"
   ]
  },
  {
   "cell_type": "code",
   "execution_count": 2,
   "id": "1b3fb35f-574b-4bfb-bb4a-49f7a25412f4",
   "metadata": {},
   "outputs": [
    {
     "ename": "TypeError",
     "evalue": "'str' object does not support item assignment",
     "output_type": "error",
     "traceback": [
      "\u001b[0;31m---------------------------------------------------------------------------\u001b[0m",
      "\u001b[0;31mTypeError\u001b[0m                                 Traceback (most recent call last)",
      "Input \u001b[0;32mIn [2]\u001b[0m, in \u001b[0;36m<cell line: 1>\u001b[0;34m()\u001b[0m\n\u001b[0;32m----> 1\u001b[0m string[\u001b[38;5;241m0\u001b[39m] \u001b[38;5;241m=\u001b[39m \u001b[38;5;124m'\u001b[39m\u001b[38;5;124mp\u001b[39m\u001b[38;5;124m'\u001b[39m\n",
      "\u001b[0;31mTypeError\u001b[0m: 'str' object does not support item assignment"
     ]
    }
   ],
   "source": [
    "string[0] = 'p'"
   ]
  },
  {
   "cell_type": "code",
   "execution_count": 3,
   "id": "9278fb51-b9a3-4b74-9b0b-37b01cd7f9f3",
   "metadata": {},
   "outputs": [
    {
     "data": {
      "text/plain": [
       "'Python'"
      ]
     },
     "execution_count": 3,
     "metadata": {},
     "output_type": "execute_result"
    }
   ],
   "source": [
    "string"
   ]
  },
  {
   "cell_type": "code",
   "execution_count": 4,
   "id": "841b0e83",
   "metadata": {},
   "outputs": [],
   "source": [
    "string = 'python'"
   ]
  },
  {
   "cell_type": "code",
   "execution_count": 5,
   "id": "95487538",
   "metadata": {},
   "outputs": [
    {
     "data": {
      "text/plain": [
       "'python'"
      ]
     },
     "execution_count": 5,
     "metadata": {},
     "output_type": "execute_result"
    }
   ],
   "source": [
    "string"
   ]
  },
  {
   "cell_type": "code",
   "execution_count": null,
   "id": "f314e8ca",
   "metadata": {},
   "outputs": [],
   "source": [
    "if (year > 2020) {\n",
    "    print('do this')\n",
    "    print('do that')\n",
    "}"
   ]
  },
  {
   "cell_type": "code",
   "execution_count": 5,
   "id": "8a0b164a",
   "metadata": {},
   "outputs": [
    {
     "name": "stdout",
     "output_type": "stream",
     "text": [
      "hey, 5 is greater than 4\n",
      "ok?\n",
      "after\n"
     ]
    }
   ],
   "source": [
    "if 5 > 4:\n",
    "    print('hey, 5 is greater than 4')\n",
    "    print('ok?')\n",
    "\n",
    "print('after')"
   ]
  },
  {
   "cell_type": "code",
   "execution_count": 7,
   "id": "5f880645",
   "metadata": {},
   "outputs": [],
   "source": [
    "string = \"Don't say that!\""
   ]
  },
  {
   "cell_type": "code",
   "execution_count": 8,
   "id": "7bed4272",
   "metadata": {},
   "outputs": [
    {
     "data": {
      "text/plain": [
       "\"Don't say that!\""
      ]
     },
     "execution_count": 8,
     "metadata": {},
     "output_type": "execute_result"
    }
   ],
   "source": [
    "string"
   ]
  },
  {
   "cell_type": "code",
   "execution_count": 9,
   "id": "6cc11e44",
   "metadata": {},
   "outputs": [],
   "source": [
    "string = 'He said \"Go away!\"'"
   ]
  },
  {
   "cell_type": "code",
   "execution_count": 21,
   "id": "c466c720",
   "metadata": {},
   "outputs": [
    {
     "name": "stdout",
     "output_type": "stream",
     "text": [
      "Enter a number: 9\n",
      "9 is odd\n"
     ]
    }
   ],
   "source": [
    "# prompt the user to enter a number\n",
    "# read input from the user\n",
    "num = int(input('Enter a number: ')) # at this point we have a number (as a string) in num\n",
    "# convert the input to an integer\n",
    "# tell the user whether the number entered was odd or even\n",
    "if num % 2 == 0: # \"if remainder when dividing by 2 is 0\"\n",
    "    print(num, 'is even')\n",
    "else:\n",
    "    print(num, 'is odd')"
   ]
  },
  {
   "cell_type": "code",
   "execution_count": 15,
   "id": "34fcb53d",
   "metadata": {},
   "outputs": [
    {
     "data": {
      "text/plain": [
       "1"
      ]
     },
     "execution_count": 15,
     "metadata": {},
     "output_type": "execute_result"
    }
   ],
   "source": [
    "23 % 2"
   ]
  },
  {
   "cell_type": "code",
   "execution_count": 16,
   "id": "b8d3f220",
   "metadata": {},
   "outputs": [
    {
     "data": {
      "text/plain": [
       "'23'"
      ]
     },
     "execution_count": 16,
     "metadata": {},
     "output_type": "execute_result"
    }
   ],
   "source": [
    "num"
   ]
  },
  {
   "cell_type": "code",
   "execution_count": 17,
   "id": "9c3e790a",
   "metadata": {},
   "outputs": [
    {
     "ename": "TypeError",
     "evalue": "not all arguments converted during string formatting",
     "output_type": "error",
     "traceback": [
      "\u001b[0;31m---------------------------------------------------------------------------\u001b[0m",
      "\u001b[0;31mTypeError\u001b[0m                                 Traceback (most recent call last)",
      "Input \u001b[0;32mIn [17]\u001b[0m, in \u001b[0;36m<cell line: 1>\u001b[0;34m()\u001b[0m\n\u001b[0;32m----> 1\u001b[0m \u001b[38;5;124;43m'\u001b[39;49m\u001b[38;5;124;43m23\u001b[39;49m\u001b[38;5;124;43m'\u001b[39;49m\u001b[43m \u001b[49m\u001b[38;5;241;43m%\u001b[39;49m\u001b[43m \u001b[49m\u001b[38;5;241;43m2\u001b[39;49m\n",
      "\u001b[0;31mTypeError\u001b[0m: not all arguments converted during string formatting"
     ]
    }
   ],
   "source": [
    "'23' % 2"
   ]
  },
  {
   "cell_type": "code",
   "execution_count": 31,
   "id": "58ca5bc3",
   "metadata": {},
   "outputs": [
    {
     "name": "stdout",
     "output_type": "stream",
     "text": [
      "Enter a number: hduwyhujwe\n",
      "hduwyhujwe is odd\n"
     ]
    }
   ],
   "source": [
    "num = input('Enter a number: ') # at this point we have a number (as a string) in num\n",
    "if num[-1] in '02468': # is the last digit ONE OF 0, 2, 4, 6, or 8\n",
    "    print(num, 'is even')\n",
    "else:\n",
    "    print(num, 'is odd')"
   ]
  },
  {
   "cell_type": "code",
   "execution_count": null,
   "id": "e5291af6",
   "metadata": {},
   "outputs": [],
   "source": []
  }
 ],
 "metadata": {
  "kernelspec": {
   "display_name": "Python 3 (ipykernel)",
   "language": "python",
   "name": "python3"
  },
  "language_info": {
   "codemirror_mode": {
    "name": "ipython",
    "version": 3
   },
   "file_extension": ".py",
   "mimetype": "text/x-python",
   "name": "python",
   "nbconvert_exporter": "python",
   "pygments_lexer": "ipython3",
   "version": "3.9.12"
  }
 },
 "nbformat": 4,
 "nbformat_minor": 5
}
